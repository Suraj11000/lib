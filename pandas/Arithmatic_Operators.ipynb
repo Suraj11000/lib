{
 "cells": [
  {
   "cell_type": "markdown",
   "id": "9420aff2",
   "metadata": {},
   "source": [
    "# Arithmatic Operators :"
   ]
  },
  {
   "cell_type": "code",
   "execution_count": 24,
   "id": "d6251073",
   "metadata": {},
   "outputs": [
    {
     "name": "stdout",
     "output_type": "stream",
     "text": [
      "    A   B\n",
      "0  11  16\n",
      "1   2   8\n",
      "2  34  15\n",
      "3   4   9\n"
     ]
    }
   ],
   "source": [
    "import pandas as pd\n",
    "\n",
    "df = pd.DataFrame({\"A\":[11,2,34,4],\"B\":[16,8,15,9]})\n",
    "print(df)"
   ]
  },
  {
   "cell_type": "code",
   "execution_count": 6,
   "id": "48e080c7",
   "metadata": {},
   "outputs": [
    {
     "name": "stdout",
     "output_type": "stream",
     "text": [
      "   A  B   C\n",
      "0  1  6   7\n",
      "1  2  8  10\n",
      "2  3  5   8\n",
      "3  4  9  13\n"
     ]
    }
   ],
   "source": [
    "#Addition:\n",
    "\n",
    "df[\"C\"] = df[\"A\"]+ df[\"B\"]\n",
    "print(df)"
   ]
  },
  {
   "cell_type": "code",
   "execution_count": 18,
   "id": "a5156823",
   "metadata": {},
   "outputs": [
    {
     "name": "stdout",
     "output_type": "stream",
     "text": [
      "   A  B  S\n",
      "0  1  6 -5\n",
      "1  2  8 -6\n",
      "2  3  5 -2\n",
      "3  4  9 -5\n"
     ]
    }
   ],
   "source": [
    "#substraction:\n",
    "\n",
    "df[\"S\"] = df[\"A\"] - df[\"B\"]\n",
    "print(df)"
   ]
  },
  {
   "cell_type": "code",
   "execution_count": 20,
   "id": "b41c3033",
   "metadata": {},
   "outputs": [
    {
     "name": "stdout",
     "output_type": "stream",
     "text": [
      "   A  B  S         D\n",
      "0  1  6 -5  0.166667\n",
      "1  2  8 -6  0.250000\n",
      "2  3  5 -2  0.600000\n",
      "3  4  9 -5  0.444444\n"
     ]
    }
   ],
   "source": [
    "#Division :\n",
    "\n",
    "df[\"D\"] = df[\"A\"] / df[\"B\"]\n",
    "print(df)"
   ]
  },
  {
   "cell_type": "code",
   "execution_count": 25,
   "id": "e6fdf2d9",
   "metadata": {},
   "outputs": [
    {
     "name": "stdout",
     "output_type": "stream",
     "text": [
      "    A   B  A Less 10  B above 10\n",
      "0  11  16      False        True\n",
      "1   2   8       True       False\n",
      "2  34  15      False        True\n",
      "3   4   9       True       False\n"
     ]
    }
   ],
   "source": [
    "df[\"A Less 10\"] = df[\"A\"] < 10\n",
    "df[\"B above 10\"] = df[\"B\"] > 10 \n",
    "print(df)"
   ]
  }
 ],
 "metadata": {
  "kernelspec": {
   "display_name": "Python 3 (ipykernel)",
   "language": "python",
   "name": "python3"
  },
  "language_info": {
   "codemirror_mode": {
    "name": "ipython",
    "version": 3
   },
   "file_extension": ".py",
   "mimetype": "text/x-python",
   "name": "python",
   "nbconvert_exporter": "python",
   "pygments_lexer": "ipython3",
   "version": "3.11.2"
  }
 },
 "nbformat": 4,
 "nbformat_minor": 5
}
