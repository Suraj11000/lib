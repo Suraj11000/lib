{
 "cells": [
  {
   "cell_type": "markdown",
   "id": "c08a3baf",
   "metadata": {},
   "source": [
    "# Series :"
   ]
  },
  {
   "cell_type": "code",
   "execution_count": 13,
   "id": "857256d5",
   "metadata": {},
   "outputs": [
    {
     "name": "stdout",
     "output_type": "stream",
     "text": [
      "a     3.0\n",
      "s     4.0\n",
      "d     5.0\n",
      "f    98.0\n",
      "Name: suraj, dtype: float64\n",
      "\n",
      "<class 'pandas.core.series.Series'>\n",
      "\n",
      "5.0\n"
     ]
    }
   ],
   "source": [
    "import pandas as pd\n",
    "\n",
    "x = [3,4,5,98]\n",
    "series = pd.Series(x,index=[\"a\",\"s\",\"d\",\"f\"],dtype=\"float\",name=\"suraj\")#index is for to change the index to our choice default is from 0\n",
    "print(series)\n",
    "print()\n",
    "print(type(series))\n",
    "print()\n",
    "print(series[2])#to get the data"
   ]
  },
  {
   "cell_type": "code",
   "execution_count": 14,
   "id": "879d5f0a",
   "metadata": {},
   "outputs": [
    {
     "name": "stdout",
     "output_type": "stream",
     "text": [
      "name     [Suraj, Dhiraj, Bharat, Nanda]\n",
      "marks                  [88, 99, 55, 77]\n",
      "rank                       [2, 1, 4, 3]\n",
      "dtype: object\n"
     ]
    }
   ],
   "source": [
    "dict ={\n",
    "    \"name\" : [\"Suraj\", \"Dhiraj\",\"Bharat\",\"Nanda\"],\n",
    "    \"marks\": [88,99,55,77],\n",
    "    \"rank\" : [2,1,4,3]\n",
    "}\n",
    "series = pd.Series(dict)\n",
    "print(series)"
   ]
  },
  {
   "cell_type": "code",
   "execution_count": 17,
   "id": "ab2c29bb",
   "metadata": {},
   "outputs": [
    {
     "name": "stdout",
     "output_type": "stream",
     "text": [
      "1    12\n",
      "2    12\n",
      "3    12\n",
      "4    12\n",
      "5    12\n",
      "6    12\n",
      "7    12\n",
      "dtype: int64\n"
     ]
    }
   ],
   "source": [
    "srs = pd.Series(12,index=[1,2,3,4,5,6,7])\n",
    "print(srs)"
   ]
  },
  {
   "cell_type": "code",
   "execution_count": 18,
   "id": "ea75dea4",
   "metadata": {},
   "outputs": [
    {
     "name": "stdout",
     "output_type": "stream",
     "text": [
      "1    24.0\n",
      "2    24.0\n",
      "3    24.0\n",
      "4     NaN\n",
      "5     NaN\n",
      "6     NaN\n",
      "7     NaN\n",
      "dtype: float64\n"
     ]
    }
   ],
   "source": [
    "srs1 = pd.Series(12,index=[1,2,3,4,5,6,7])\n",
    "srs2 = pd.Series(12,index=[1,2,3])\n",
    "print(srs1+srs2)"
   ]
  }
 ],
 "metadata": {
  "kernelspec": {
   "display_name": "Python 3 (ipykernel)",
   "language": "python",
   "name": "python3"
  },
  "language_info": {
   "codemirror_mode": {
    "name": "ipython",
    "version": 3
   },
   "file_extension": ".py",
   "mimetype": "text/x-python",
   "name": "python",
   "nbconvert_exporter": "python",
   "pygments_lexer": "ipython3",
   "version": "3.11.2"
  }
 },
 "nbformat": 4,
 "nbformat_minor": 5
}
