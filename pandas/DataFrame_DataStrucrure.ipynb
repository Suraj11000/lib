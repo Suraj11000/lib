{
 "cells": [
  {
   "cell_type": "markdown",
   "id": "ab2cbb52",
   "metadata": {},
   "source": [
    "# DataFrame :"
   ]
  },
  {
   "cell_type": "code",
   "execution_count": 5,
   "id": "27f43ed4",
   "metadata": {},
   "outputs": [
    {
     "name": "stdout",
     "output_type": "stream",
     "text": [
      "   0\n",
      "0  1\n",
      "1  2\n",
      "2  3\n",
      "3  4\n",
      "4  5\n",
      "<class 'pandas.core.frame.DataFrame'>\n"
     ]
    }
   ],
   "source": [
    "import pandas as pd\n",
    "x=[1,2,3,4,5]\n",
    "df = pd.DataFrame(x)\n",
    "print(df)\n",
    "print(type(df))"
   ]
  },
  {
   "cell_type": "code",
   "execution_count": 10,
   "id": "12b9eebd",
   "metadata": {},
   "outputs": [
    {
     "name": "stdout",
     "output_type": "stream",
     "text": [
      "   a  s\n",
      "0  1  1\n",
      "1  2  2\n",
      "2  3  3\n",
      "3  4  4\n",
      "4  5  5\n",
      "5  6  6\n",
      "\n",
      "<class 'pandas.core.frame.DataFrame'>\n"
     ]
    }
   ],
   "source": [
    "d = {\n",
    "    \"a\" : [1,2,3,4,5,6],\n",
    "    \"s\" : [1,2,3,4,5,6]\n",
    "}\n",
    "\n",
    "df = pd.DataFrame(d)\n",
    "print(df)\n",
    "print()\n",
    "print(type(df))"
   ]
  },
  {
   "cell_type": "code",
   "execution_count": 20,
   "id": "4dee0b96",
   "metadata": {},
   "outputs": [
    {
     "name": "stdout",
     "output_type": "stream",
     "text": [
      "   a    11\n",
      "0  1   545\n",
      "1  2  6456\n",
      "2  3  4564\n",
      "3  4   456\n",
      "4  5   456\n",
      "5  6   789\n",
      "\n",
      "   a  s  f    11\n",
      "0  1  1  8   545\n",
      "1  2  2  9  6456\n",
      "2  3  3  7  4564\n",
      "3  4  4  2   456\n",
      "4  5  5  4   456\n",
      "5  6  6  3   789\n",
      "\n",
      "456\n",
      "\n",
      "5\n"
     ]
    }
   ],
   "source": [
    "d = {\n",
    "    \"a\" : [1,2,3,4,5,6],\n",
    "    \"s\" : [1,2,3,4,5,6],\n",
    "    \"f\" : [8,9,7,2,4,3],\n",
    "    11:[545,6456,4564,456,456,789]\n",
    "}\n",
    "\n",
    "df = pd.DataFrame(d,columns=[\"a\",11])\n",
    "print(df)\n",
    "print()\n",
    "df = pd.DataFrame(d)\n",
    "print(df)\n",
    "print()\n",
    "print(df[11][3])\n",
    "print()\n",
    "print(df[\"s\"][4])"
   ]
  },
  {
   "cell_type": "code",
   "execution_count": 22,
   "id": "1539f928",
   "metadata": {},
   "outputs": [
    {
     "name": "stdout",
     "output_type": "stream",
     "text": [
      "    0   1    2     3\n",
      "0   1   2    3   4.0\n",
      "1  11  44   55  55.0\n",
      "2  44  55  323   NaN\n"
     ]
    }
   ],
   "source": [
    "l = [[1,2,3,4],[11,44,55,55],[44,55,323]]\n",
    "df = pd.DataFrame(l)\n",
    "print(df)"
   ]
  },
  {
   "cell_type": "code",
   "execution_count": 26,
   "id": "d866177a",
   "metadata": {},
   "outputs": [
    {
     "name": "stdout",
     "output_type": "stream",
     "text": [
      "   s  r\n",
      "0  1  5\n",
      "1  2  6\n",
      "2  3  7\n",
      "3  4  8\n",
      "<class 'pandas.core.frame.DataFrame'>\n"
     ]
    }
   ],
   "source": [
    "dict = {\n",
    "    \"s\" : pd.Series([1,2,3,4]),\n",
    "    \"r\" : pd.Series([5,6,7,8])\n",
    "}\n",
    "df = pd.DataFrame(dict)\n",
    "print(df)\n",
    "print(type(df))"
   ]
  }
 ],
 "metadata": {
  "kernelspec": {
   "display_name": "Python 3 (ipykernel)",
   "language": "python",
   "name": "python3"
  },
  "language_info": {
   "codemirror_mode": {
    "name": "ipython",
    "version": 3
   },
   "file_extension": ".py",
   "mimetype": "text/x-python",
   "name": "python",
   "nbconvert_exporter": "python",
   "pygments_lexer": "ipython3",
   "version": "3.11.2"
  }
 },
 "nbformat": 4,
 "nbformat_minor": 5
}
