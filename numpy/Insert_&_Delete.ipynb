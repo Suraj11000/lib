{
 "cells": [
  {
   "cell_type": "markdown",
   "id": "a6925afd",
   "metadata": {},
   "source": [
    "# Insert:"
   ]
  },
  {
   "cell_type": "code",
   "execution_count": 3,
   "id": "577dbe3d",
   "metadata": {},
   "outputs": [
    {
     "name": "stdout",
     "output_type": "stream",
     "text": [
      "[1 2 3 4 5]\n",
      "\n",
      "[1 2 3 4 5 6]\n",
      "\n",
      "[ 1  2 40  3  4 40  5]\n"
     ]
    }
   ],
   "source": [
    "import numpy as np\n",
    "\n",
    "arr = np.array([1,2,3,4,5])\n",
    "print(arr)\n",
    "print()\n",
    "arr1 = np.insert(arr,5,6)\n",
    "print(arr1)\n",
    "print()\n",
    "arr2 = np.insert(arr,(2,4),40)\n",
    "print(arr2)"
   ]
  },
  {
   "cell_type": "code",
   "execution_count": 6,
   "id": "b3823fec",
   "metadata": {},
   "outputs": [
    {
     "name": "stdout",
     "output_type": "stream",
     "text": [
      "[[1 2 3]\n",
      " [4 5 6]\n",
      " [6 6 6]]\n",
      "\n",
      "[[1 2 6 3]\n",
      " [4 5 6 6]]\n"
     ]
    }
   ],
   "source": [
    "var1 = np.array([[1,2,3],[4,5,6]])\n",
    "v =  np.insert(var1,2,6,axis=0)\n",
    "print(v)\n",
    "print()\n",
    "v =  np.insert(var1,2,6,axis=1)\n",
    "print(v)"
   ]
  },
  {
   "cell_type": "code",
   "execution_count": 10,
   "id": "3747c290",
   "metadata": {},
   "outputs": [
    {
     "name": "stdout",
     "output_type": "stream",
     "text": [
      "[[ 1 51  2  3]\n",
      " [ 4 31  5  6]]\n",
      "\n",
      "[[ 1  2  3]\n",
      " [51 31 22]\n",
      " [ 4  5  6]]\n"
     ]
    }
   ],
   "source": [
    "arr = np.array([[1,2,3],[4,5,6]])\n",
    "v = np.insert(arr,1,[51,31],axis=1)\n",
    "print(v)\n",
    "print()\n",
    "v = np.insert(arr,1,[51,31,22],axis=0)\n",
    "print(v)"
   ]
  },
  {
   "cell_type": "markdown",
   "id": "20a55652",
   "metadata": {},
   "source": [
    "# Append:"
   ]
  },
  {
   "cell_type": "code",
   "execution_count": 12,
   "id": "a38863ca",
   "metadata": {},
   "outputs": [
    {
     "name": "stdout",
     "output_type": "stream",
     "text": [
      "[1 2 3 4 8]\n"
     ]
    }
   ],
   "source": [
    "arr = np.array([1,2,3,4])\n",
    "ap = np.append(arr,8)\n",
    "print(ap)"
   ]
  },
  {
   "cell_type": "code",
   "execution_count": 20,
   "id": "fec2ac3b",
   "metadata": {},
   "outputs": [
    {
     "name": "stdout",
     "output_type": "stream",
     "text": [
      "[[1 2 3]\n",
      " [4 5 6]\n",
      " [7 8 9]]\n",
      "\n",
      "[[1 2 3]\n",
      " [4 5 6]\n",
      " [7 8 9]]\n"
     ]
    }
   ],
   "source": [
    "arr = np.array([[1,2,3],[4,5,6]])\n",
    "app = np.append(arr,[[7,8,9]],axis=0)\n",
    "print(app)\n",
    "print()\n",
    "# app = np.append(arr,[[7,8,9]],axis=1)\n",
    "# print(app)"
   ]
  },
  {
   "cell_type": "markdown",
   "id": "4cd1d877",
   "metadata": {},
   "source": [
    "# Delete"
   ]
  },
  {
   "cell_type": "code",
   "execution_count": 25,
   "id": "543e75c5",
   "metadata": {},
   "outputs": [
    {
     "name": "stdout",
     "output_type": "stream",
     "text": [
      "[1 2 3 4 5]\n",
      "\n",
      "[1 2 4 5]\n"
     ]
    }
   ],
   "source": [
    "arr = np.array([1,2,3,4,5])\n",
    "print(arr)\n",
    "print()\n",
    "d = np.delete(arr,2)\n",
    "print(d)"
   ]
  },
  {
   "cell_type": "code",
   "execution_count": 27,
   "id": "5916c89c",
   "metadata": {},
   "outputs": [
    {
     "name": "stdout",
     "output_type": "stream",
     "text": [
      "[1 2 4 5 6]\n"
     ]
    }
   ],
   "source": [
    "arr = np.array([[1,2,3],[4,5,6]])\n",
    "de = np.delete(arr,2)\n",
    "print(de)"
   ]
  }
 ],
 "metadata": {
  "kernelspec": {
   "display_name": "Python 3 (ipykernel)",
   "language": "python",
   "name": "python3"
  },
  "language_info": {
   "codemirror_mode": {
    "name": "ipython",
    "version": 3
   },
   "file_extension": ".py",
   "mimetype": "text/x-python",
   "name": "python",
   "nbconvert_exporter": "python",
   "pygments_lexer": "ipython3",
   "version": "3.11.2"
  }
 },
 "nbformat": 4,
 "nbformat_minor": 5
}
