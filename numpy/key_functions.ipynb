{
 "cells": [
  {
   "cell_type": "markdown",
   "id": "5f1c46b0",
   "metadata": {},
   "source": [
    "# Transpose:"
   ]
  },
  {
   "cell_type": "code",
   "execution_count": 1,
   "id": "45f6206c",
   "metadata": {},
   "outputs": [
    {
     "name": "stdout",
     "output_type": "stream",
     "text": [
      "[[1 2 3]\n",
      " [4 5 6]]\n",
      "\n",
      "[[1 4]\n",
      " [2 5]\n",
      " [3 6]]\n"
     ]
    }
   ],
   "source": [
    "import numpy as np\n",
    "mat = np.matrix([[1,2,3],[4,5,6]])\n",
    "print(mat)\n",
    "print()\n",
    "print(np.transpose(mat))"
   ]
  },
  {
   "cell_type": "markdown",
   "id": "58674025",
   "metadata": {},
   "source": [
    "# Swapaxes: convert column to row and vise versa"
   ]
  },
  {
   "cell_type": "code",
   "execution_count": 5,
   "id": "94aa3e56",
   "metadata": {},
   "outputs": [
    {
     "name": "stdout",
     "output_type": "stream",
     "text": [
      "[[1 4]\n",
      " [2 5]\n",
      " [3 6]]\n",
      "\n",
      "[[1 2]\n",
      " [3 4]]\n",
      "\n",
      "[[1 3]\n",
      " [2 4]]\n"
     ]
    }
   ],
   "source": [
    "mat = np.matrix([[1,2,3],[4,5,6]])\n",
    "print(np.swapaxes(mat,0,1))\n",
    "print()\n",
    "mat2 = np.matrix([[1,2],[3,4]])\n",
    "print(mat2)\n",
    "print()\n",
    "print(np.swapaxes(mat2,0,1))"
   ]
  },
  {
   "cell_type": "markdown",
   "id": "cf71a785",
   "metadata": {},
   "source": [
    "# Inverse: A^-1"
   ]
  },
  {
   "cell_type": "code",
   "execution_count": 6,
   "id": "4ef59ec5",
   "metadata": {},
   "outputs": [
    {
     "name": "stdout",
     "output_type": "stream",
     "text": [
      "[[1 2]\n",
      " [3 4]]\n",
      "\n",
      "[[-2.   1. ]\n",
      " [ 1.5 -0.5]]\n"
     ]
    }
   ],
   "source": [
    "mat = np.matrix([[1,2],[3,4]])\n",
    "print(mat)\n",
    "print()\n",
    "print(np.linalg.inv(mat))"
   ]
  },
  {
   "cell_type": "markdown",
   "id": "5b35b5f2",
   "metadata": {},
   "source": [
    "# Power:"
   ]
  },
  {
   "cell_type": "code",
   "execution_count": 8,
   "id": "d343491a",
   "metadata": {},
   "outputs": [
    {
     "name": "stdout",
     "output_type": "stream",
     "text": [
      "[[1 2]\n",
      " [3 4]]\n",
      "\n",
      "[[ 7 10]\n",
      " [15 22]]\n",
      "\n",
      "[[1 0]\n",
      " [0 1]]\n",
      "\n",
      "[[ 5.5  -2.5 ]\n",
      " [-3.75  1.75]]\n",
      "\n"
     ]
    }
   ],
   "source": [
    "mat = np.matrix([[1,2],[3,4]])\n",
    "print(mat)\n",
    "print()\n",
    "print(np.linalg.matrix_power(mat,2))\n",
    "print()\n",
    "print(np.linalg.matrix_power(mat,0))\n",
    "print()\n",
    "print(np.linalg.matrix_power(mat,-2))\n",
    "print()\n"
   ]
  },
  {
   "cell_type": "markdown",
   "id": "56dfacfd",
   "metadata": {},
   "source": [
    "# Determinant:"
   ]
  },
  {
   "cell_type": "code",
   "execution_count": 9,
   "id": "42bb9950",
   "metadata": {},
   "outputs": [
    {
     "name": "stdout",
     "output_type": "stream",
     "text": [
      "[[1 2]\n",
      " [3 4]]\n",
      "\n",
      "-2.0000000000000004\n"
     ]
    }
   ],
   "source": [
    "mat = np.matrix([[1,2],[3,4]])\n",
    "print(mat)\n",
    "print()\n",
    "print(np.linalg.det(mat))"
   ]
  }
 ],
 "metadata": {
  "kernelspec": {
   "display_name": "Python 3 (ipykernel)",
   "language": "python",
   "name": "python3"
  },
  "language_info": {
   "codemirror_mode": {
    "name": "ipython",
    "version": 3
   },
   "file_extension": ".py",
   "mimetype": "text/x-python",
   "name": "python",
   "nbconvert_exporter": "python",
   "pygments_lexer": "ipython3",
   "version": "3.11.2"
  }
 },
 "nbformat": 4,
 "nbformat_minor": 5
}
