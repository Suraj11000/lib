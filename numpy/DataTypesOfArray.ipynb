{
 "cells": [
  {
   "cell_type": "markdown",
   "id": "8c85fe41",
   "metadata": {},
   "source": [
    "# Data Types"
   ]
  },
  {
   "cell_type": "code",
   "execution_count": 2,
   "id": "3bc0ef78",
   "metadata": {},
   "outputs": [
    {
     "name": "stdout",
     "output_type": "stream",
     "text": [
      "Data Type :  int32\n"
     ]
    }
   ],
   "source": [
    "import numpy as np\n",
    "arr = np.array([5,8,3,5])\n",
    "print(\"Data Type : \",arr.dtype)"
   ]
  },
  {
   "cell_type": "code",
   "execution_count": 3,
   "id": "501d3996",
   "metadata": {},
   "outputs": [
    {
     "name": "stdout",
     "output_type": "stream",
     "text": [
      "Data Type : float64\n"
     ]
    }
   ],
   "source": [
    "arr = np.array([1.9,3.6])\n",
    "print(\"Data Type :\",arr.dtype)"
   ]
  },
  {
   "cell_type": "code",
   "execution_count": 5,
   "id": "1afdad0f",
   "metadata": {},
   "outputs": [
    {
     "name": "stdout",
     "output_type": "stream",
     "text": [
      "Data Type : <U1\n"
     ]
    }
   ],
   "source": [
    "arr = np.array([\"S\", \"D\",\"P\"])\n",
    "print(\"Data Type :\", arr.dtype)"
   ]
  },
  {
   "cell_type": "code",
   "execution_count": 6,
   "id": "883af6fe",
   "metadata": {},
   "outputs": [
    {
     "name": "stdout",
     "output_type": "stream",
     "text": [
      "Data Type : <U11\n"
     ]
    }
   ],
   "source": [
    "arr = np.array([\"S\", \"D\",\"P\",5,9])\n",
    "print(\"Data Type :\", arr.dtype)"
   ]
  },
  {
   "cell_type": "markdown",
   "id": "31b6dfa0",
   "metadata": {},
   "source": [
    "# Data Types Conversion"
   ]
  },
  {
   "cell_type": "code",
   "execution_count": 10,
   "id": "82e917d6",
   "metadata": {},
   "outputs": [
    {
     "name": "stdout",
     "output_type": "stream",
     "text": [
      "Data Type: int32\n"
     ]
    }
   ],
   "source": [
    "x = np.array([1,2,3,4])\n",
    "print(\"Data Type:\",x.dtype)"
   ]
  },
  {
   "cell_type": "code",
   "execution_count": 16,
   "id": "34573713",
   "metadata": {},
   "outputs": [
    {
     "name": "stdout",
     "output_type": "stream",
     "text": [
      "Data Type: int8\n",
      "[1 2 3 4]\n"
     ]
    }
   ],
   "source": [
    "x = np.array([1,2,3,4], dtype = np.int8)\n",
    "print(\"Data Type:\",x.dtype)\n",
    "print(x)"
   ]
  },
  {
   "cell_type": "code",
   "execution_count": 15,
   "id": "978b1fc5",
   "metadata": {},
   "outputs": [
    {
     "name": "stdout",
     "output_type": "stream",
     "text": [
      "Data Type: float32\n",
      "[1. 2. 3. 4.]\n"
     ]
    }
   ],
   "source": [
    "x = np.array([1,2,3,4], dtype = \"f\")\n",
    "print(\"Data Type:\",x.dtype)\n",
    "print(x)"
   ]
  },
  {
   "cell_type": "code",
   "execution_count": 17,
   "id": "7d96f2e1",
   "metadata": {},
   "outputs": [
    {
     "name": "stdout",
     "output_type": "stream",
     "text": [
      "Data Type: int32\n",
      "Data Type: float32\n",
      "[1 2 3 4]\n",
      "[1. 2. 3. 4.]\n"
     ]
    }
   ],
   "source": [
    "x2 = np.array([1,2,3,4])\n",
    "\n",
    "new = np.float32(x2)\n",
    "\n",
    "print(\"Data Type:\",x2.dtype)\n",
    "print(\"Data Type:\",new.dtype)\n",
    "print(x2)\n",
    "print(new)"
   ]
  },
  {
   "cell_type": "code",
   "execution_count": 19,
   "id": "16591bf2",
   "metadata": {},
   "outputs": [
    {
     "name": "stdout",
     "output_type": "stream",
     "text": [
      "Data Type: int32\n",
      "Data Type: float32\n",
      "Data Type: int32\n",
      "[1 2 3 4]\n",
      "[1. 2. 3. 4.]\n",
      "[1 2 3 4]\n"
     ]
    }
   ],
   "source": [
    "x2 = np.array([1,2,3,4])\n",
    "\n",
    "new = np.float32(x2)\n",
    "\n",
    "new1 = np.int_(x2)\n",
    "\n",
    "print(\"Data Type:\",x2.dtype)\n",
    "print(\"Data Type:\",new.dtype)\n",
    "print(\"Data Type:\",new1.dtype)\n",
    "print(x2)\n",
    "print(new)\n",
    "print(new1)"
   ]
  },
  {
   "cell_type": "markdown",
   "id": "bb197ee3",
   "metadata": {},
   "source": [
    "# astype()"
   ]
  },
  {
   "cell_type": "code",
   "execution_count": 20,
   "id": "b700a9b9",
   "metadata": {},
   "outputs": [
    {
     "name": "stdout",
     "output_type": "stream",
     "text": [
      "[1 6 8 7 6 5]\n",
      "[1. 6. 8. 7. 6. 5.]\n"
     ]
    }
   ],
   "source": [
    "arr = np.array([1,6,8,7,6,5])\n",
    "arr1 = arr.astype(float)\n",
    "print(arr)\n",
    "print(arr1)"
   ]
  }
 ],
 "metadata": {
  "kernelspec": {
   "display_name": "Python 3 (ipykernel)",
   "language": "python",
   "name": "python3"
  },
  "language_info": {
   "codemirror_mode": {
    "name": "ipython",
    "version": 3
   },
   "file_extension": ".py",
   "mimetype": "text/x-python",
   "name": "python",
   "nbconvert_exporter": "python",
   "pygments_lexer": "ipython3",
   "version": "3.11.2"
  }
 },
 "nbformat": 4,
 "nbformat_minor": 5
}
