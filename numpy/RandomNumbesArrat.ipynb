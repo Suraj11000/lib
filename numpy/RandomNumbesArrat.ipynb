{
 "cells": [
  {
   "cell_type": "markdown",
   "id": "129c83a5",
   "metadata": {},
   "source": [
    "# Random"
   ]
  },
  {
   "cell_type": "markdown",
   "id": "db6de461",
   "metadata": {},
   "source": [
    "# 1.Rand() for only number from 0 to 1"
   ]
  },
  {
   "cell_type": "raw",
   "id": "b28a1f68",
   "metadata": {},
   "source": []
  },
  {
   "cell_type": "code",
   "execution_count": 3,
   "id": "8462b629",
   "metadata": {},
   "outputs": [
    {
     "name": "stdout",
     "output_type": "stream",
     "text": [
      "[0.83576982 0.0826156  0.58809773]\n"
     ]
    }
   ],
   "source": [
    "import numpy as np\n",
    "arr_rand = np.random.rand(3)\n",
    "print(arr_rand)"
   ]
  },
  {
   "cell_type": "raw",
   "id": "78e4144f",
   "metadata": {},
   "source": []
  },
  {
   "cell_type": "code",
   "execution_count": 4,
   "id": "1c93b544",
   "metadata": {},
   "outputs": [
    {
     "name": "stdout",
     "output_type": "stream",
     "text": [
      "[[0.01989613 0.75518128 0.93863536 0.67312804 0.23787979 0.66536888]\n",
      " [0.10796054 0.88805586 0.97225385 0.39255402 0.41218584 0.12079172]]\n"
     ]
    }
   ],
   "source": [
    "arr_2d = np.random.rand(2,6)\n",
    "print(arr_2d)"
   ]
  },
  {
   "cell_type": "code",
   "execution_count": 6,
   "id": "3565c4b7",
   "metadata": {},
   "outputs": [
    {
     "name": "stdout",
     "output_type": "stream",
     "text": [
      "[[0.1999776  0.30403954 0.22397849]\n",
      " [0.12073459 0.30141228 0.77180859]\n",
      " [0.96589349 0.18325365 0.69368387]\n",
      " [0.75365675 0.9872264  0.64419545]\n",
      " [0.51848166 0.18073289 0.53424416]\n",
      " [0.95611456 0.14883644 0.27307679]]\n"
     ]
    }
   ],
   "source": [
    "arr_3d = np.random.rand(6,3)\n",
    "print(arr_3d)"
   ]
  },
  {
   "cell_type": "markdown",
   "id": "cf3711dd",
   "metadata": {},
   "source": [
    "# Randn() for negative as well positive numbers"
   ]
  },
  {
   "cell_type": "code",
   "execution_count": 7,
   "id": "91d72d13",
   "metadata": {},
   "outputs": [
    {
     "name": "stdout",
     "output_type": "stream",
     "text": [
      "[-0.75742961  0.28845177 -0.17390183  0.87691979  0.57925779]\n"
     ]
    }
   ],
   "source": [
    "arr_randn = np.random.randn(5)\n",
    "print(arr_randn)"
   ]
  },
  {
   "cell_type": "markdown",
   "id": "fa271873",
   "metadata": {},
   "source": [
    "# Ranf num form [0.0 to 1.0]"
   ]
  },
  {
   "cell_type": "code",
   "execution_count": 8,
   "id": "4cd3bb1f",
   "metadata": {},
   "outputs": [
    {
     "name": "stdout",
     "output_type": "stream",
     "text": [
      "[0.12608712 0.3986702  0.72001151 0.99020489 0.67829661 0.32870288]\n"
     ]
    }
   ],
   "source": [
    "arr_ranf = np.random.ranf(6)\n",
    "print(arr_ranf)"
   ]
  },
  {
   "cell_type": "markdown",
   "id": "3cde4d82",
   "metadata": {},
   "source": [
    "# Randint it give num from given range of num (4,9)"
   ]
  },
  {
   "cell_type": "code",
   "execution_count": 13,
   "id": "ec6e1d16",
   "metadata": {},
   "outputs": [
    {
     "name": "stdout",
     "output_type": "stream",
     "text": [
      "[31 34  6 43 25 20 46]\n"
     ]
    }
   ],
   "source": [
    "arr_randint = np.random.randint(4,50,7)\n",
    "print(arr_randint)"
   ]
  }
 ],
 "metadata": {
  "kernelspec": {
   "display_name": "Python 3 (ipykernel)",
   "language": "python",
   "name": "python3"
  },
  "language_info": {
   "codemirror_mode": {
    "name": "ipython",
    "version": 3
   },
   "file_extension": ".py",
   "mimetype": "text/x-python",
   "name": "python",
   "nbconvert_exporter": "python",
   "pygments_lexer": "ipython3",
   "version": "3.11.2"
  }
 },
 "nbformat": 4,
 "nbformat_minor": 5
}
