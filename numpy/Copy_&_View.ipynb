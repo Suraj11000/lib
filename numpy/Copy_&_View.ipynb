{
 "cells": [
  {
   "cell_type": "markdown",
   "id": "6825130f",
   "metadata": {},
   "source": [
    "# Copy"
   ]
  },
  {
   "cell_type": "code",
   "execution_count": 15,
   "id": "1534369f",
   "metadata": {},
   "outputs": [
    {
     "name": "stdout",
     "output_type": "stream",
     "text": [
      "Array : [ 1  2 10  4]\n",
      "Copy : [1 2 3 4]\n"
     ]
    }
   ],
   "source": [
    "import numpy as np\n",
    "arr = np.array([1,2,3,4])\n",
    "\n",
    "copy  = arr.copy()\n",
    "\n",
    "arr[2]=10\n",
    "\n",
    "print(\"Array :\",arr)\n",
    "print(\"Copy :\",copy)"
   ]
  },
  {
   "cell_type": "markdown",
   "id": "50016f96",
   "metadata": {},
   "source": [
    "# View"
   ]
  },
  {
   "cell_type": "code",
   "execution_count": 20,
   "id": "61045aa1",
   "metadata": {},
   "outputs": [
    {
     "name": "stdout",
     "output_type": "stream",
     "text": [
      "Array : [ 1  2 10  4  5]\n",
      "\n",
      "View : [ 1  2 10  4  5]\n"
     ]
    }
   ],
   "source": [
    "arr = np.array([1,2,3,4,5])\n",
    "arr[2]=10\n",
    "print(\"Array :\",arr)\n",
    "\n",
    "print()\n",
    "view = arr.view()\n",
    "\n",
    "print(\"View :\",view)"
   ]
  }
 ],
 "metadata": {
  "kernelspec": {
   "display_name": "Python 3 (ipykernel)",
   "language": "python",
   "name": "python3"
  },
  "language_info": {
   "codemirror_mode": {
    "name": "ipython",
    "version": 3
   },
   "file_extension": ".py",
   "mimetype": "text/x-python",
   "name": "python",
   "nbconvert_exporter": "python",
   "pygments_lexer": "ipython3",
   "version": "3.11.2"
  }
 },
 "nbformat": 4,
 "nbformat_minor": 5
}
