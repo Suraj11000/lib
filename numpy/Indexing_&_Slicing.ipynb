{
 "cells": [
  {
   "cell_type": "markdown",
   "id": "f770193e",
   "metadata": {},
   "source": [
    "# Indexing"
   ]
  },
  {
   "cell_type": "code",
   "execution_count": 3,
   "id": "a07a61de",
   "metadata": {},
   "outputs": [
    {
     "name": "stdout",
     "output_type": "stream",
     "text": [
      "3\n"
     ]
    }
   ],
   "source": [
    "import numpy as np\n",
    "\n",
    "arr1 = np.array([1,2,3,7,8,4,9])\n",
    "print(arr1[2])"
   ]
  },
  {
   "cell_type": "code",
   "execution_count": 9,
   "id": "6a084f6f",
   "metadata": {},
   "outputs": [
    {
     "name": "stdout",
     "output_type": "stream",
     "text": [
      "9\n"
     ]
    }
   ],
   "source": [
    "arr1 = np.array([1,2,3,7,5,9,3])\n",
    "print(arr1[-2])"
   ]
  },
  {
   "cell_type": "code",
   "execution_count": 12,
   "id": "3acf20da",
   "metadata": {},
   "outputs": [
    {
     "name": "stdout",
     "output_type": "stream",
     "text": [
      "[[8 9 7 4]\n",
      " [4 2 6 3]]\n",
      "2\n",
      "\n",
      "9\n"
     ]
    }
   ],
   "source": [
    "arr2 = np.array([[8,9,7,4],[4,2,6,3]])\n",
    "print(arr2)\n",
    "print(arr2.ndim)\n",
    "print()\n",
    "print(arr2[0,1])"
   ]
  },
  {
   "cell_type": "code",
   "execution_count": 28,
   "id": "c3a96882",
   "metadata": {},
   "outputs": [
    {
     "name": "stdout",
     "output_type": "stream",
     "text": [
      "[[[1 2 3 4]\n",
      "  [4 5 6 7]\n",
      "  [9 8 7 5]]]\n",
      "\n",
      "3\n",
      "\n",
      "6\n"
     ]
    }
   ],
   "source": [
    "arr3 = np.array([[[1,2,3,4],[4,5,6,7],[9,8,7,5]]])\n",
    "print(arr3)\n",
    "print()\n",
    "print(arr3.ndim)\n",
    "print()\n",
    "print(arr3[0,1,2])"
   ]
  },
  {
   "cell_type": "markdown",
   "id": "7023e4b4",
   "metadata": {},
   "source": [
    "# Slicing"
   ]
  },
  {
   "cell_type": "code",
   "execution_count": 37,
   "id": "c668f29a",
   "metadata": {},
   "outputs": [
    {
     "name": "stdout",
     "output_type": "stream",
     "text": [
      "[1 2 3 4 5 6 7 8 9]\n",
      "\n",
      "1\n",
      "\n",
      "2 to 7 = [2 3 4 5 6 7]\n",
      "2 to End = [2 3 4 5 6 7 8 9]\n",
      "start to 6 = [1 2 3 4 5 6]\n",
      "alternate = [1 3 5 7 9]\n"
     ]
    }
   ],
   "source": [
    "arr1 = np.array([1,2,3,4,5,6,7,8,9])\n",
    "print(arr1)\n",
    "print()\n",
    "print(arr1.ndim)\n",
    "print()\n",
    "print(\"2 to 7 =\",arr1[1:7])\n",
    "print(\"2 to End =\",arr1[1:])\n",
    "print(\"start to 6 =\",arr1[:6])\n",
    "print(\"alternate =\",arr1[::2])"
   ]
  },
  {
   "cell_type": "code",
   "execution_count": 47,
   "id": "15a75e02",
   "metadata": {},
   "outputs": [
    {
     "name": "stdout",
     "output_type": "stream",
     "text": [
      "[[1 2 3]\n",
      " [4 5 6]\n",
      " [7 8 9]]\n",
      "\n",
      "[7 8 9]\n"
     ]
    }
   ],
   "source": [
    "arr2 = np.array([[1,2,3],[4,5,6],[7,8,9]])\n",
    "print(arr2)\n",
    "print()\n",
    "print(arr2[2,0:])"
   ]
  },
  {
   "cell_type": "code",
   "execution_count": 1,
   "id": "84e4b69b",
   "metadata": {},
   "outputs": [
    {
     "name": "stdout",
     "output_type": "stream",
     "text": [
      "[[[1 2 3]\n",
      "  [4 5 6]\n",
      "  [7 8 9]]]\n",
      "\n",
      "[[7 8 9]]\n"
     ]
    }
   ],
   "source": [
    "import numpy as np\n",
    "arr3 = np.array([[[1,2,3],[4,5,6],[7,8,9]]])\n",
    "print(arr3)\n",
    "print()\n",
    "print(arr3[0,2:])\n",
    "\n",
    "arr4 = np.array([[[1,2,3,4],[5,9,8,4],[4,6,7,9]]])\n",
    "\n"
   ]
  }
 ],
 "metadata": {
  "kernelspec": {
   "display_name": "Python 3 (ipykernel)",
   "language": "python",
   "name": "python3"
  },
  "language_info": {
   "codemirror_mode": {
    "name": "ipython",
    "version": 3
   },
   "file_extension": ".py",
   "mimetype": "text/x-python",
   "name": "python",
   "nbconvert_exporter": "python",
   "pygments_lexer": "ipython3",
   "version": "3.11.2"
  }
 },
 "nbformat": 4,
 "nbformat_minor": 5
}
