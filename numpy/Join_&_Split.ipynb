{
 "cells": [
  {
   "cell_type": "markdown",
   "id": "8f511461",
   "metadata": {},
   "source": [
    "# Join Array\n",
    "\n",
    "1.Concatenate"
   ]
  },
  {
   "cell_type": "code",
   "execution_count": 12,
   "id": "b6b467f4",
   "metadata": {},
   "outputs": [
    {
     "name": "stdout",
     "output_type": "stream",
     "text": [
      "[1 2 3 4 5 6 7 8]\n"
     ]
    }
   ],
   "source": [
    "import numpy as np\n",
    "# 1D array\n",
    "arr = np.array([1,2,3,4])\n",
    "arr1 = np.array([5,6,7,8])\n",
    "\n",
    "cont = np.concatenate((arr,arr1))\n",
    "print(cont)"
   ]
  },
  {
   "cell_type": "code",
   "execution_count": 11,
   "id": "3aee8f06",
   "metadata": {},
   "outputs": [
    {
     "name": "stdout",
     "output_type": "stream",
     "text": [
      "[[1 2 3]\n",
      " [4 5 6]]\n",
      "\n",
      "[[9 8 7]\n",
      " [6 5 4]]\n",
      "\n",
      "[[1 2 3]\n",
      " [4 5 6]\n",
      " [9 8 7]\n",
      " [6 5 4]]\n",
      "\n",
      "[[1 2 3]\n",
      " [4 5 6]\n",
      " [9 8 7]\n",
      " [6 5 4]]\n",
      "\n",
      "[[1 2 3 9 8 7]\n",
      " [4 5 6 6 5 4]]\n"
     ]
    }
   ],
   "source": [
    "# 2D array\n",
    "arr = np.array([[1,2,3],[4,5,6]])\n",
    "arr1 = np.array([[9,8,7],[6,5,4]])\n",
    "\n",
    "print(arr)\n",
    "\n",
    "print()\n",
    "\n",
    "print(arr1)\n",
    "\n",
    "print()\n",
    "\n",
    "cont = np.concatenate((arr,arr1))\n",
    "\n",
    "print(cont)\n",
    "\n",
    "print()\n",
    "\n",
    "axis0 = np.concatenate((arr,arr1),axis=0)\n",
    "\n",
    "print(axis0)\n",
    "\n",
    "print()\n",
    "\n",
    "axis1 = np.concatenate((arr,arr1),axis=1)\n",
    "\n",
    "print(axis1)"
   ]
  },
  {
   "cell_type": "markdown",
   "id": "b251a83a",
   "metadata": {},
   "source": [
    "# stack"
   ]
  },
  {
   "cell_type": "code",
   "execution_count": 17,
   "id": "d737374b",
   "metadata": {},
   "outputs": [
    {
     "name": "stdout",
     "output_type": "stream",
     "text": [
      "[[1 5]\n",
      " [2 6]\n",
      " [3 7]\n",
      " [4 8]]\n",
      "\n",
      "[1 2 3 4 5 6 7 8]\n",
      "\n",
      "[[1 2 3 4]\n",
      " [5 6 7 8]]\n",
      "\n",
      "[[[1 5]\n",
      "  [2 6]\n",
      "  [3 7]\n",
      "  [4 8]]]\n"
     ]
    }
   ],
   "source": [
    "arr = np.array([1,2,3,4])\n",
    "arr1 = np.array([5,6,7,8])\n",
    "# stack\n",
    "stack = np.stack((arr,arr1),axis=1)\n",
    "print(stack)\n",
    "print()\n",
    "\n",
    "# hstack toward Row\n",
    "hstack = np.hstack((arr,arr1))\n",
    "print(hstack)\n",
    "print()\n",
    "\n",
    "# vstack towards Column\n",
    "vstack = np.vstack((arr,arr1))\n",
    "print(vstack)\n",
    "print()\n",
    "\n",
    "# dstack toward height\n",
    "dstack = np.dstack((arr,arr1))\n",
    "print(dstack)"
   ]
  },
  {
   "cell_type": "markdown",
   "id": "729913a4",
   "metadata": {},
   "source": [
    "# Split Array"
   ]
  },
  {
   "cell_type": "code",
   "execution_count": 28,
   "id": "e62b4cae",
   "metadata": {},
   "outputs": [
    {
     "name": "stdout",
     "output_type": "stream",
     "text": [
      "[1 2 3 4]\n",
      "\n",
      "[array([1]), array([2]), array([3]), array([4])]\n",
      "[2]\n"
     ]
    }
   ],
   "source": [
    "# 1D Array.\n",
    "arr = np.array([1,2,3,4])\n",
    "print(arr)\n",
    "print()\n",
    "\n",
    "split = np.array_split(arr,4)\n",
    "print(split)\n",
    "print(split[1])"
   ]
  },
  {
   "cell_type": "code",
   "execution_count": 34,
   "id": "3e240825",
   "metadata": {},
   "outputs": [
    {
     "name": "stdout",
     "output_type": "stream",
     "text": [
      "[[1 2 3]\n",
      " [4 5 6]\n",
      " [7 8 9]]\n",
      "\n",
      "[array([[1, 2, 3]]), array([[4, 5, 6]]), array([[7, 8, 9]])]\n",
      "\n",
      "[array([[1, 2, 3]]), array([[4, 5, 6]]), array([[7, 8, 9]])]\n",
      "\n",
      "[array([[1],\n",
      "       [4],\n",
      "       [7]]), array([[2],\n",
      "       [5],\n",
      "       [8]]), array([[3],\n",
      "       [6],\n",
      "       [9]])]\n"
     ]
    }
   ],
   "source": [
    "#2D Array.\n",
    "arr = np.array([[1,2,3],[4,5,6],[7,8,9]])\n",
    "print(arr)\n",
    "print()\n",
    "\n",
    "split = np.array_split(arr,3)\n",
    "print(split)\n",
    "print()\n",
    "\n",
    "split0 = np.array_split(arr,3,axis=0)\n",
    "print(split0)\n",
    "print()\n",
    "\n",
    "split1 = np.array_split(arr,3,axis=1)\n",
    "print(split1)"
   ]
  }
 ],
 "metadata": {
  "kernelspec": {
   "display_name": "Python 3 (ipykernel)",
   "language": "python",
   "name": "python3"
  },
  "language_info": {
   "codemirror_mode": {
    "name": "ipython",
    "version": 3
   },
   "file_extension": ".py",
   "mimetype": "text/x-python",
   "name": "python",
   "nbconvert_exporter": "python",
   "pygments_lexer": "ipython3",
   "version": "3.11.2"
  }
 },
 "nbformat": 4,
 "nbformat_minor": 5
}
