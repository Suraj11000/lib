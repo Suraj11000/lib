{
 "cells": [
  {
   "cell_type": "markdown",
   "id": "5eb4b134",
   "metadata": {},
   "source": [
    "# Matrix:"
   ]
  },
  {
   "cell_type": "code",
   "execution_count": 7,
   "id": "778226ac",
   "metadata": {},
   "outputs": [
    {
     "name": "stdout",
     "output_type": "stream",
     "text": [
      "<class 'numpy.matrix'>\n",
      "2\n",
      "[[1 2 3]\n",
      " [4 5 6]]\n",
      "\n",
      "[[1 2 3]\n",
      " [4 5 6]]\n",
      "\n",
      "[[ 2  4  6]\n",
      " [ 8 10 12]]\n"
     ]
    }
   ],
   "source": [
    "import numpy as np\n",
    "arr = np.matrix([[1,2,3],[4,5,6]])\n",
    "arr1 = np.matrix([[1,2,3],[4,5,6]])\n",
    "print(type(arr))\n",
    "print(arr.ndim)\n",
    "print(arr)\n",
    "print()\n",
    "print(arr1)\n",
    "print()\n",
    "print(arr + arr1)"
   ]
  },
  {
   "cell_type": "code",
   "execution_count": 12,
   "id": "bbe61fd6",
   "metadata": {},
   "outputs": [
    {
     "name": "stdout",
     "output_type": "stream",
     "text": [
      "[[ 9 12 15]\n",
      " [24 33 42]]\n",
      "\n",
      "[[ 9 12 15]\n",
      " [24 33 42]]\n"
     ]
    }
   ],
   "source": [
    "arr = np.array([[1,2],[4,5]])\n",
    "arr = np.array([[1,2],[4,5]])\n",
    "print(arr*arr1)\n",
    "print()\n",
    "print(arr.dot(arr1))"
   ]
  }
 ],
 "metadata": {
  "kernelspec": {
   "display_name": "Python 3 (ipykernel)",
   "language": "python",
   "name": "python3"
  },
  "language_info": {
   "codemirror_mode": {
    "name": "ipython",
    "version": 3
   },
   "file_extension": ".py",
   "mimetype": "text/x-python",
   "name": "python",
   "nbconvert_exporter": "python",
   "pygments_lexer": "ipython3",
   "version": "3.11.2"
  }
 },
 "nbformat": 4,
 "nbformat_minor": 5
}
