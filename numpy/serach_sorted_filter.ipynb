{
 "cells": [
  {
   "cell_type": "markdown",
   "id": "47319603",
   "metadata": {},
   "source": [
    "# Search, Sorted, Search_sorted, Filter."
   ]
  },
  {
   "cell_type": "markdown",
   "id": "61642eb3",
   "metadata": {},
   "source": [
    "# Search:"
   ]
  },
  {
   "cell_type": "code",
   "execution_count": 6,
   "id": "bc2ca9f5",
   "metadata": {},
   "outputs": [
    {
     "name": "stdout",
     "output_type": "stream",
     "text": [
      "(array([ 3,  9, 20], dtype=int64),)\n",
      "\n",
      "(array([ 1,  3,  4,  6,  8,  9, 10, 11, 14, 16, 18, 20], dtype=int64),)\n",
      "\n",
      "(array([ 3,  9, 20], dtype=int64),)\n"
     ]
    }
   ],
   "source": [
    "import numpy as np\n",
    "arr= np.array([1,2,3,4,6,7,8,9,2,4,6,8,5,7,6,5,6,1,2,3,4])\n",
    "\n",
    "s = np.where(arr == 4)\n",
    "print(s)\n",
    "print()\n",
    "\n",
    "d = np.where((arr%2) == 0)\n",
    "print(d)\n",
    "print()\n",
    "\n",
    "a = np.where((arr + 2) == 6)\n",
    "print(a)"
   ]
  },
  {
   "cell_type": "markdown",
   "id": "89aba71f",
   "metadata": {},
   "source": [
    "# SearchSorted:"
   ]
  },
  {
   "cell_type": "code",
   "execution_count": 15,
   "id": "7a1b746f",
   "metadata": {},
   "outputs": [
    {
     "name": "stdout",
     "output_type": "stream",
     "text": [
      "2\n"
     ]
    }
   ],
   "source": [
    "arr = np.array([1,3,5,6,7,9,])\n",
    "ss = np.searchsorted(arr, 4)\n",
    "print(ss)"
   ]
  },
  {
   "cell_type": "code",
   "execution_count": 16,
   "id": "7b53b2dd",
   "metadata": {},
   "outputs": [
    {
     "name": "stdout",
     "output_type": "stream",
     "text": [
      "3\n"
     ]
    }
   ],
   "source": [
    "arr = np.array([1,2,3,5,6,8,4,9,8])\n",
    "ri = np.searchsorted(arr,4,side=\"right\")\n",
    "print(ri)"
   ]
  },
  {
   "cell_type": "code",
   "execution_count": 17,
   "id": "9de40b91",
   "metadata": {},
   "outputs": [
    {
     "name": "stdout",
     "output_type": "stream",
     "text": [
      "[2 4 6]\n"
     ]
    }
   ],
   "source": [
    "arr = np.array([1,2,4,5,7,8])\n",
    "li = np.searchsorted(arr,[3,6,9])\n",
    "print(li)"
   ]
  },
  {
   "cell_type": "markdown",
   "id": "4f0103bb",
   "metadata": {},
   "source": [
    "# Sort:"
   ]
  },
  {
   "cell_type": "code",
   "execution_count": 18,
   "id": "59d5ca52",
   "metadata": {},
   "outputs": [
    {
     "name": "stdout",
     "output_type": "stream",
     "text": [
      "[ 1  3  4  5  5  7  8  9 22 33 65 69 77]\n"
     ]
    }
   ],
   "source": [
    "# 1D array\n",
    "arr = np.array([1,5,69,4,65,7,9,3,8,77,22,5,33])\n",
    "sort = np.sort(arr)\n",
    "print(sort)"
   ]
  },
  {
   "cell_type": "code",
   "execution_count": 19,
   "id": "d4ffee92",
   "metadata": {},
   "outputs": [
    {
     "name": "stdout",
     "output_type": "stream",
     "text": [
      "['a' 'b' 'p' 'x' 'z']\n"
     ]
    }
   ],
   "source": [
    "arr = np.array([\"a\",\"z\",\"b\",\"x\",\"p\"])\n",
    "sort = np.sort(arr)\n",
    "print(sort)\n"
   ]
  },
  {
   "cell_type": "code",
   "execution_count": 21,
   "id": "624e997e",
   "metadata": {},
   "outputs": [
    {
     "name": "stdout",
     "output_type": "stream",
     "text": [
      "[[ 2  3 11]\n",
      " [ 6 15 40]\n",
      " [ 9 18 71]]\n"
     ]
    }
   ],
   "source": [
    "# 2D array\n",
    "arr = np.array([[11,2,3],[40,15,6],[71,18,9]])\n",
    "sort = np.sort(arr)\n",
    "print(sort)"
   ]
  },
  {
   "cell_type": "markdown",
   "id": "a40d0f54",
   "metadata": {},
   "source": [
    "# Filter:"
   ]
  },
  {
   "cell_type": "code",
   "execution_count": 23,
   "id": "597a08cb",
   "metadata": {},
   "outputs": [
    {
     "name": "stdout",
     "output_type": "stream",
     "text": [
      "[88 51 55]\n"
     ]
    }
   ],
   "source": [
    "arr = np.array([66,88,22,51,55])\n",
    "fil = [False,True,False,True,True]\n",
    "\n",
    "fil_array = arr[fil]\n",
    "print(fil_array)"
   ]
  }
 ],
 "metadata": {
  "kernelspec": {
   "display_name": "Python 3 (ipykernel)",
   "language": "python",
   "name": "python3"
  },
  "language_info": {
   "codemirror_mode": {
    "name": "ipython",
    "version": 3
   },
   "file_extension": ".py",
   "mimetype": "text/x-python",
   "name": "python",
   "nbconvert_exporter": "python",
   "pygments_lexer": "ipython3",
   "version": "3.11.2"
  }
 },
 "nbformat": 4,
 "nbformat_minor": 5
}
