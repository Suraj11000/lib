{
 "cells": [
  {
   "cell_type": "markdown",
   "id": "bf871bfb",
   "metadata": {},
   "source": [
    "# Zeros Array"
   ]
  },
  {
   "cell_type": "code",
   "execution_count": 2,
   "id": "5743f8f1",
   "metadata": {},
   "outputs": [
    {
     "name": "stdout",
     "output_type": "stream",
     "text": [
      "[0. 0. 0. 0.]\n",
      "\n",
      "[[0. 0. 0. 0.]\n",
      " [0. 0. 0. 0.]\n",
      " [0. 0. 0. 0.]\n",
      " [0. 0. 0. 0.]]\n",
      "\n",
      "[[[0. 0. 0. 0.]\n",
      "  [0. 0. 0. 0.]\n",
      "  [0. 0. 0. 0.]\n",
      "  [0. 0. 0. 0.]]\n",
      "\n",
      " [[0. 0. 0. 0.]\n",
      "  [0. 0. 0. 0.]\n",
      "  [0. 0. 0. 0.]\n",
      "  [0. 0. 0. 0.]]\n",
      "\n",
      " [[0. 0. 0. 0.]\n",
      "  [0. 0. 0. 0.]\n",
      "  [0. 0. 0. 0.]\n",
      "  [0. 0. 0. 0.]]\n",
      "\n",
      " [[0. 0. 0. 0.]\n",
      "  [0. 0. 0. 0.]\n",
      "  [0. 0. 0. 0.]\n",
      "  [0. 0. 0. 0.]]]\n"
     ]
    }
   ],
   "source": [
    "import numpy as np\n",
    "arr_zero = np.zeros(4)\n",
    "print(arr_zero)\n",
    "print()\n",
    "arr_zero1 = np.zeros((4,4))\n",
    "print(arr_zero1)\n",
    "print()\n",
    "arr_zero1 = np.zeros((4,4,4))\n",
    "print(arr_zero1)\n",
    "\n"
   ]
  },
  {
   "cell_type": "markdown",
   "id": "38e8b8ce",
   "metadata": {},
   "source": [
    "# Ones Filled Array"
   ]
  },
  {
   "cell_type": "code",
   "execution_count": 14,
   "id": "bf7582f7",
   "metadata": {},
   "outputs": [
    {
     "name": "stdout",
     "output_type": "stream",
     "text": [
      "[1. 1. 1. 1.]\n",
      "\n",
      "[[1. 1. 1. 1. 1.]\n",
      " [1. 1. 1. 1. 1.]\n",
      " [1. 1. 1. 1. 1.]\n",
      " [1. 1. 1. 1. 1.]\n",
      " [1. 1. 1. 1. 1.]]\n"
     ]
    }
   ],
   "source": [
    "arr_ones = np.ones(4)\n",
    "print(arr_ones)\n",
    "print()\n",
    "arr_one1 = np.ones(((5,5)))\n",
    "print(arr_one1)"
   ]
  },
  {
   "cell_type": "raw",
   "id": "060167a0",
   "metadata": {},
   "source": []
  },
  {
   "cell_type": "markdown",
   "id": "4c99d128",
   "metadata": {},
   "source": [
    "# Empty Array"
   ]
  },
  {
   "cell_type": "code",
   "execution_count": 15,
   "id": "2e139146",
   "metadata": {},
   "outputs": [
    {
     "name": "stdout",
     "output_type": "stream",
     "text": [
      "[1. 1. 1. 1.]\n"
     ]
    }
   ],
   "source": [
    "arr_emp = np.empty(4)\n",
    "print(arr_emp)"
   ]
  },
  {
   "cell_type": "raw",
   "id": "f2ef9bd3",
   "metadata": {},
   "source": []
  },
  {
   "cell_type": "markdown",
   "id": "9b958e8d",
   "metadata": {},
   "source": [
    "# Arange Array"
   ]
  },
  {
   "cell_type": "code",
   "execution_count": 16,
   "id": "468e90cf",
   "metadata": {},
   "outputs": [
    {
     "name": "stdout",
     "output_type": "stream",
     "text": [
      "[0 1 2 3]\n"
     ]
    }
   ],
   "source": [
    "arr_range = np.arange(4)\n",
    "print(arr_range)"
   ]
  },
  {
   "cell_type": "raw",
   "id": "7ac8121f",
   "metadata": {},
   "source": []
  },
  {
   "cell_type": "markdown",
   "id": "9a36ed0d",
   "metadata": {},
   "source": [
    "# Digonal One (Eye())"
   ]
  },
  {
   "cell_type": "code",
   "execution_count": 17,
   "id": "407f0424",
   "metadata": {},
   "outputs": [
    {
     "name": "stdout",
     "output_type": "stream",
     "text": [
      "[[1. 0. 0.]\n",
      " [0. 1. 0.]\n",
      " [0. 0. 1.]]\n"
     ]
    }
   ],
   "source": [
    "arr_dg = np.eye(3)\n",
    "print(arr_dg)"
   ]
  },
  {
   "cell_type": "code",
   "execution_count": 20,
   "id": "b51de212",
   "metadata": {},
   "outputs": [
    {
     "name": "stdout",
     "output_type": "stream",
     "text": [
      "[[1. 0. 0. 0. 0. 0.]\n",
      " [0. 1. 0. 0. 0. 0.]\n",
      " [0. 0. 1. 0. 0. 0.]\n",
      " [0. 0. 0. 1. 0. 0.]\n",
      " [0. 0. 0. 0. 1. 0.]\n",
      " [0. 0. 0. 0. 0. 1.]]\n"
     ]
    }
   ],
   "source": [
    "arr_dg = np.eye(6,6)\n",
    "print(arr_dg)"
   ]
  },
  {
   "cell_type": "raw",
   "id": "73427d58",
   "metadata": {},
   "source": []
  },
  {
   "cell_type": "markdown",
   "id": "a3a925ec",
   "metadata": {},
   "source": [
    "# Linspace Array"
   ]
  },
  {
   "cell_type": "code",
   "execution_count": 22,
   "id": "c4bab271",
   "metadata": {},
   "outputs": [
    {
     "name": "stdout",
     "output_type": "stream",
     "text": [
      "[  0.  25.  50.  75. 100.]\n"
     ]
    }
   ],
   "source": [
    "arr_lin = np.linspace(0,100,num=5)\n",
    "print(arr_lin)"
   ]
  }
 ],
 "metadata": {
  "kernelspec": {
   "display_name": "Python 3 (ipykernel)",
   "language": "python",
   "name": "python3"
  },
  "language_info": {
   "codemirror_mode": {
    "name": "ipython",
    "version": 3
   },
   "file_extension": ".py",
   "mimetype": "text/x-python",
   "name": "python",
   "nbconvert_exporter": "python",
   "pygments_lexer": "ipython3",
   "version": "3.11.2"
  }
 },
 "nbformat": 4,
 "nbformat_minor": 5
}
