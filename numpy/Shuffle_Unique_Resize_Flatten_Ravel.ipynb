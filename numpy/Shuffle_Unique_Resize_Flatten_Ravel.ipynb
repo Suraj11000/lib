{
 "cells": [
  {
   "cell_type": "markdown",
   "id": "b15e03f8",
   "metadata": {},
   "source": [
    "# Shuffle"
   ]
  },
  {
   "cell_type": "code",
   "execution_count": 4,
   "id": "59ff4179",
   "metadata": {},
   "outputs": [
    {
     "name": "stdout",
     "output_type": "stream",
     "text": [
      "[3 1 4 5 6 2]\n"
     ]
    }
   ],
   "source": [
    "import numpy as np\n",
    "arr = np.array([1,2,3,4,5,6])\n",
    "np.random.shuffle(arr)\n",
    "print(arr)"
   ]
  },
  {
   "cell_type": "markdown",
   "id": "45cec452",
   "metadata": {},
   "source": [
    "# Unique:"
   ]
  },
  {
   "cell_type": "code",
   "execution_count": 13,
   "id": "edcf1a1b",
   "metadata": {},
   "outputs": [
    {
     "name": "stdout",
     "output_type": "stream",
     "text": [
      "(array([1, 2, 3, 4, 5, 6]), array([ 0,  5, 11,  3,  1,  2], dtype=int64), array([3, 2, 1, 3, 3, 3], dtype=int64))\n"
     ]
    }
   ],
   "source": [
    "arr = np.array([1,5,6,4,1,2,5,4,6,2,1,3,4,5,6])\n",
    "uni = np.unique(arr, return_index=True, return_counts=True)\n",
    "print(uni)"
   ]
  },
  {
   "cell_type": "markdown",
   "id": "8a6d52a7",
   "metadata": {},
   "source": [
    "# Resize:"
   ]
  },
  {
   "cell_type": "code",
   "execution_count": 13,
   "id": "e21763f6",
   "metadata": {},
   "outputs": [
    {
     "name": "stdout",
     "output_type": "stream",
     "text": [
      "[[1 2 3]\n",
      " [4 5 6]]\n",
      "\n",
      "[[[1]\n",
      "  [2]\n",
      "  [3]]\n",
      "\n",
      " [[4]\n",
      "  [5]\n",
      "  [6]]]\n"
     ]
    }
   ],
   "source": [
    "arr = np.array([1,2,3,4,5,6])\n",
    "size = np.resize(arr,(2,3))\n",
    "print(size)\n",
    "print()\n",
    "size = np.resize(arr,(2,3,1))\n",
    "print(size)"
   ]
  },
  {
   "cell_type": "markdown",
   "id": "c4f163e5",
   "metadata": {},
   "source": [
    "# Flatten:"
   ]
  },
  {
   "cell_type": "code",
   "execution_count": 27,
   "id": "fabebbcd",
   "metadata": {},
   "outputs": [
    {
     "name": "stdout",
     "output_type": "stream",
     "text": [
      "[[1 2 3]\n",
      " [4 5 6]]\n",
      "\n",
      "[1 2 3 4 5 6]\n"
     ]
    }
   ],
   "source": [
    "arr = np.array([[1,2,3],[4,5,6]])\n",
    "print(arr)\n",
    "print()\n",
    "flat = arr.flatten()\n",
    "\n",
    "print(flat)"
   ]
  },
  {
   "cell_type": "code",
   "execution_count": 33,
   "id": "2d268b65",
   "metadata": {},
   "outputs": [
    {
     "name": "stdout",
     "output_type": "stream",
     "text": [
      "[[1 2 3]\n",
      " [4 5 6]]\n",
      "\n",
      "[1 2 3 4 5 6]\n",
      "\n",
      "[1 4 2 5 3 6]\n",
      "\n",
      "[1 2 3 4 5 6]\n",
      "\n",
      "[1 2 3 4 5 6]\n"
     ]
    }
   ],
   "source": [
    "arr = np.array([[1,2,3],[4,5,6]])\n",
    "print(arr)\n",
    "print()\n",
    "flat = arr.flatten(order=\"C\")\n",
    "print(flat)\n",
    "print()\n",
    "flat = arr.flatten(order=\"F\")\n",
    "print(flat)\n",
    "print()\n",
    "flat = arr.flatten(order=\"A\")\n",
    "print(flat)\n",
    "print()\n",
    "flat = arr.flatten(order=\"K\")\n",
    "print(flat)"
   ]
  },
  {
   "cell_type": "markdown",
   "id": "0037ed93",
   "metadata": {},
   "source": [
    "# Revel:"
   ]
  },
  {
   "cell_type": "code",
   "execution_count": null,
   "id": "a71acb62",
   "metadata": {},
   "outputs": [
    {
     "name": "stdout",
     "output_type": "stream",
     "text": [
      "[1 2 3 4 5 6 7 8 9 4]\n"
     ]
    }
   ],
   "source": [
    "arr = np.array([[[1,2,3,4,5,6,7,8,9]]])\n",
    "rav = np.ravel(arr)\n",
    "print(rav)"
   ]
  },
  {
   "cell_type": "code",
   "execution_count": 40,
   "id": "145ec377",
   "metadata": {},
   "outputs": [
    {
     "name": "stdout",
     "output_type": "stream",
     "text": [
      "[[1 2 3 4 5 6 7 8 9]]\n",
      "\n",
      "[1 2 3 4 5 6 7 8 9]\n"
     ]
    }
   ],
   "source": [
    "arr = np.array([[1,2,3,4,5,6,7,8,9]])\n",
    "print(arr)\n",
    "print()\n",
    "rav = np.ravel(arr, order=\"K\")\n",
    "print(rav)"
   ]
  }
 ],
 "metadata": {
  "kernelspec": {
   "display_name": "Python 3 (ipykernel)",
   "language": "python",
   "name": "python3"
  },
  "language_info": {
   "codemirror_mode": {
    "name": "ipython",
    "version": 3
   },
   "file_extension": ".py",
   "mimetype": "text/x-python",
   "name": "python",
   "nbconvert_exporter": "python",
   "pygments_lexer": "ipython3",
   "version": "3.11.2"
  }
 },
 "nbformat": 4,
 "nbformat_minor": 5
}
