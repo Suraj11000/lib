{
 "cells": [
  {
   "cell_type": "markdown",
   "id": "53c220b2",
   "metadata": {},
   "source": [
    "# Shape & Reshape"
   ]
  },
  {
   "cell_type": "markdown",
   "id": "7abafb37",
   "metadata": {},
   "source": [
    "# 1.Shape"
   ]
  },
  {
   "cell_type": "code",
   "execution_count": 4,
   "id": "dfcd2577",
   "metadata": {},
   "outputs": [
    {
     "name": "stdout",
     "output_type": "stream",
     "text": [
      "[[1 2 3 4]\n",
      " [1 2 3 4]]\n",
      "\n",
      "(2, 4)\n"
     ]
    }
   ],
   "source": [
    "import numpy as np\n",
    "arr = np.array([[1,2,3,4],[1,2,3,4]])\n",
    "print(arr)\n",
    "print()\n",
    "print(arr.shape)"
   ]
  },
  {
   "cell_type": "code",
   "execution_count": 5,
   "id": "2615e244",
   "metadata": {},
   "outputs": [
    {
     "name": "stdout",
     "output_type": "stream",
     "text": [
      "[[[[[1 2 3 4]]]]]\n",
      "5\n",
      "(1, 1, 1, 1, 4)\n"
     ]
    }
   ],
   "source": [
    "arr = np.array([1,2,3,4], ndmin = 5)\n",
    "print(arr)\n",
    "print(arr.ndim)\n",
    "print(arr.shape)"
   ]
  },
  {
   "cell_type": "markdown",
   "id": "4c1bd428",
   "metadata": {},
   "source": [
    "# 2.Reshape"
   ]
  },
  {
   "cell_type": "code",
   "execution_count": 17,
   "id": "62b171fb",
   "metadata": {},
   "outputs": [
    {
     "name": "stdout",
     "output_type": "stream",
     "text": [
      "[1 2 3 4 5 6]\n",
      "1\n",
      "\n",
      "[[1 2]\n",
      " [3 4]\n",
      " [5 6]]\n",
      "1\n"
     ]
    }
   ],
   "source": [
    "arr = np.array([1,2,3,4,5,6])\n",
    "print(arr)\n",
    "print(arr.ndim)\n",
    "print()\n",
    "x = arr.reshape(3,2)\n",
    "print(x)\n",
    "print(arr.ndim)"
   ]
  },
  {
   "cell_type": "code",
   "execution_count": 22,
   "id": "939e0ae9",
   "metadata": {},
   "outputs": [
    {
     "name": "stdout",
     "output_type": "stream",
     "text": [
      "[1 2 3 4 5 6 5 9 4 2 4 7]\n",
      "1\n",
      "\n",
      "[[[1 2]\n",
      "  [3 4]\n",
      "  [5 6]]\n",
      "\n",
      " [[5 9]\n",
      "  [4 2]\n",
      "  [4 7]]]\n",
      "3\n"
     ]
    }
   ],
   "source": [
    "arr = np.array([1,2,3,4,5,6,5,9,4,2,4,7])\n",
    "print(arr)\n",
    "print(arr.ndim)\n",
    "print()\n",
    "x = arr.reshape(2,3,2)\n",
    "print(x)\n",
    "print(x.ndim)"
   ]
  },
  {
   "cell_type": "code",
   "execution_count": 26,
   "id": "7519958e",
   "metadata": {},
   "outputs": [
    {
     "name": "stdout",
     "output_type": "stream",
     "text": [
      "[1 2 3 4 5 6 5 9 4 2 4 7 1 2 3 1 2 3]\n",
      "1\n",
      "\n",
      "[[[1 2 3]\n",
      "  [4 5 6]\n",
      "  [5 9 4]]\n",
      "\n",
      " [[2 4 7]\n",
      "  [1 2 3]\n",
      "  [1 2 3]]]\n",
      "3\n",
      "[1 2 3 4 5 6 5 9 4 2 4 7 1 2 3 1 2 3]\n",
      "1\n"
     ]
    }
   ],
   "source": [
    "arr = np.array([1,2,3,4,5,6,5,9,4,2,4,7,1,2,3,1,2,3])\n",
    "print(arr)\n",
    "print(arr.ndim)\n",
    "print()\n",
    "x = arr.reshape(2,3,3)\n",
    "print(x)\n",
    "print(x.ndim)\n",
    "one = x.reshape(-1)\n",
    "print(one)\n",
    "print(one.ndim)"
   ]
  }
 ],
 "metadata": {
  "kernelspec": {
   "display_name": "Python 3 (ipykernel)",
   "language": "python",
   "name": "python3"
  },
  "language_info": {
   "codemirror_mode": {
    "name": "ipython",
    "version": 3
   },
   "file_extension": ".py",
   "mimetype": "text/x-python",
   "name": "python",
   "nbconvert_exporter": "python",
   "pygments_lexer": "ipython3",
   "version": "3.11.2"
  }
 },
 "nbformat": 4,
 "nbformat_minor": 5
}
