{
 "cells": [
  {
   "cell_type": "markdown",
   "id": "23b16bea",
   "metadata": {},
   "source": [
    "# Arithmatic Operators\n",
    "\n",
    "# 1D Array"
   ]
  },
  {
   "cell_type": "code",
   "execution_count": 1,
   "id": "ca3cd69d",
   "metadata": {
    "scrolled": true
   },
   "outputs": [
    {
     "name": "stdout",
     "output_type": "stream",
     "text": [
      "[4 5 6 7]\n"
     ]
    }
   ],
   "source": [
    "import numpy as np\n",
    "\n",
    "arr = np.array([1,2,3,4])\n",
    "add_arr = arr + 3\n",
    "print(add_arr)"
   ]
  },
  {
   "cell_type": "code",
   "execution_count": 9,
   "id": "d0a1b8f5",
   "metadata": {},
   "outputs": [
    {
     "name": "stdout",
     "output_type": "stream",
     "text": [
      "[2 4 6 8]\n",
      "[2 4 6 8]\n"
     ]
    }
   ],
   "source": [
    "arr = np.array([1,2,3,4])\n",
    "arr1 = np.array([1,2,3,4])\n",
    "op = np.add(arr,arr1)\n",
    "print(op)\n",
    "add_arr = arr + arr1\n",
    "print(add_arr)"
   ]
  },
  {
   "cell_type": "code",
   "execution_count": 12,
   "id": "3ffc64e0",
   "metadata": {},
   "outputs": [
    {
     "name": "stdout",
     "output_type": "stream",
     "text": [
      "[0 0 0 0]\n",
      "[0 0 0 0]\n"
     ]
    }
   ],
   "source": [
    "arr = np.array([1,2,3,4])\n",
    "arr1 = np.array([1,2,3,4])\n",
    "op = np.subtract(arr,arr1)\n",
    "print(op)\n",
    "add_arr = arr - arr1\n",
    "print(add_arr)"
   ]
  },
  {
   "cell_type": "code",
   "execution_count": 13,
   "id": "beba0be6",
   "metadata": {},
   "outputs": [
    {
     "name": "stdout",
     "output_type": "stream",
     "text": [
      "[ 1  4  9 16]\n",
      "[ 1  4  9 16]\n"
     ]
    }
   ],
   "source": [
    "arr = np.array([1,2,3,4])\n",
    "arr1 = np.array([1,2,3,4])\n",
    "op = np.multiply(arr,arr1)\n",
    "print(op)\n",
    "add_arr = arr * arr1\n",
    "print(add_arr)"
   ]
  },
  {
   "cell_type": "code",
   "execution_count": 14,
   "id": "684310e1",
   "metadata": {},
   "outputs": [
    {
     "name": "stdout",
     "output_type": "stream",
     "text": [
      "[1. 1. 1. 1.]\n",
      "[1. 1. 1. 1.]\n"
     ]
    }
   ],
   "source": [
    "arr = np.array([1,2,3,4])\n",
    "arr1 = np.array([1,2,3,4])\n",
    "op = np.divide(arr,arr1)\n",
    "print(op)\n",
    "add_arr = arr / arr1\n",
    "print(add_arr)"
   ]
  },
  {
   "cell_type": "code",
   "execution_count": 16,
   "id": "73936d4a",
   "metadata": {},
   "outputs": [
    {
     "name": "stdout",
     "output_type": "stream",
     "text": [
      "[0 0 0 0]\n",
      "[0 0 0 0]\n"
     ]
    }
   ],
   "source": [
    "arr = np.array([1,2,3,4])\n",
    "arr1 = np.array([1,2,3,4])\n",
    "op = np.mod(arr,arr1)\n",
    "print(op)\n",
    "add_arr = arr % arr1\n",
    "print(add_arr)"
   ]
  },
  {
   "cell_type": "code",
   "execution_count": 17,
   "id": "f430a54c",
   "metadata": {},
   "outputs": [
    {
     "name": "stdout",
     "output_type": "stream",
     "text": [
      "[  1   4  27 256]\n",
      "[  1   4  27 256]\n"
     ]
    }
   ],
   "source": [
    "arr = np.array([1,2,3,4])\n",
    "arr1 = np.array([1,2,3,4])\n",
    "op = np.power(arr,arr1)\n",
    "print(op)\n",
    "add_arr = arr ** arr1\n",
    "print(add_arr)"
   ]
  },
  {
   "cell_type": "code",
   "execution_count": 24,
   "id": "e6ff4578",
   "metadata": {},
   "outputs": [
    {
     "name": "stdout",
     "output_type": "stream",
     "text": [
      "[1 0 0 0]\n"
     ]
    }
   ],
   "source": [
    "arr = np.array([1,2,3,4])\n",
    "arr1 = np.array([1,2,3,4])\n",
    "op = np.reciprocal(arr)\n",
    "print(op)"
   ]
  },
  {
   "cell_type": "markdown",
   "id": "35c6d3df",
   "metadata": {},
   "source": [
    "# 2D Array"
   ]
  },
  {
   "cell_type": "code",
   "execution_count": 20,
   "id": "12f09f2d",
   "metadata": {},
   "outputs": [
    {
     "name": "stdout",
     "output_type": "stream",
     "text": [
      "[[2 4 6 8]\n",
      " [2 4 6 8]]\n"
     ]
    }
   ],
   "source": [
    "arr21 = np.array([[1,2,3,4],[1,2,3,4]])\n",
    "arr22 = np.array([[1,2,3,4],[1,2,3,4]])\n",
    "\n",
    "add = arr21 + arr22\n",
    "\n",
    "print(add)"
   ]
  }
 ],
 "metadata": {
  "kernelspec": {
   "display_name": "Python 3 (ipykernel)",
   "language": "python",
   "name": "python3"
  },
  "language_info": {
   "codemirror_mode": {
    "name": "ipython",
    "version": 3
   },
   "file_extension": ".py",
   "mimetype": "text/x-python",
   "name": "python",
   "nbconvert_exporter": "python",
   "pygments_lexer": "ipython3",
   "version": "3.11.2"
  }
 },
 "nbformat": 4,
 "nbformat_minor": 5
}
