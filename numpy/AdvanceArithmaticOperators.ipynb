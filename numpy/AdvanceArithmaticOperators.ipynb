{
 "cells": [
  {
   "cell_type": "markdown",
   "id": "60b3c83f",
   "metadata": {},
   "source": [
    "# np.min"
   ]
  },
  {
   "cell_type": "code",
   "execution_count": 3,
   "id": "0c73f17e",
   "metadata": {},
   "outputs": [
    {
     "name": "stdout",
     "output_type": "stream",
     "text": [
      "Min : 1\n"
     ]
    }
   ],
   "source": [
    "import numpy as np\n",
    "arr = np.array([1,2,3,4])\n",
    "print(\"Min :\",np.min(arr))"
   ]
  },
  {
   "cell_type": "markdown",
   "id": "0997a6a3",
   "metadata": {},
   "source": [
    "# np.max"
   ]
  },
  {
   "cell_type": "code",
   "execution_count": 4,
   "id": "88ca32ca",
   "metadata": {},
   "outputs": [
    {
     "name": "stdout",
     "output_type": "stream",
     "text": [
      "Max : 4\n"
     ]
    }
   ],
   "source": [
    "arr = np.array([1,2,3,4])\n",
    "print(\"Max :\",np.max(arr))"
   ]
  },
  {
   "cell_type": "markdown",
   "id": "e4d09643",
   "metadata": {},
   "source": [
    "# np.argmin()"
   ]
  },
  {
   "cell_type": "code",
   "execution_count": 6,
   "id": "2c1d3aff",
   "metadata": {},
   "outputs": [
    {
     "name": "stdout",
     "output_type": "stream",
     "text": [
      "Min : 1\n",
      "1\n"
     ]
    }
   ],
   "source": [
    "arr = np.array([9,1,2,3,4])\n",
    "print(\"Min :\",np.min(arr))\n",
    "print(np.argmin(arr))"
   ]
  },
  {
   "cell_type": "markdown",
   "id": "c1dd4750",
   "metadata": {},
   "source": [
    "# np.argmax()"
   ]
  },
  {
   "cell_type": "code",
   "execution_count": 11,
   "id": "8384a4ab",
   "metadata": {},
   "outputs": [
    {
     "name": "stdout",
     "output_type": "stream",
     "text": [
      "Min : 1\n",
      "4\n"
     ]
    }
   ],
   "source": [
    "arr = np.array([9,1,2,3,45,])\n",
    "print(\"Min :\",np.min(arr))\n",
    "print(np.argmax(arr))"
   ]
  },
  {
   "cell_type": "markdown",
   "id": "56cc3c9a",
   "metadata": {},
   "source": [
    "# min & max by Axixs = 0"
   ]
  },
  {
   "cell_type": "code",
   "execution_count": 14,
   "id": "7684bdf5",
   "metadata": {},
   "outputs": [
    {
     "name": "stdout",
     "output_type": "stream",
     "text": [
      "Min : [4 1 2 3 7]\n",
      "Max : [ 9  5  8  9 45]\n"
     ]
    }
   ],
   "source": [
    "arr = np.array([[9,1,2,3,45,],[4,5,8,9,7]])\n",
    "print(\"Min :\",np.min(arr,axis=0))\n",
    "print(\"Max :\",np.max(arr,axis=0))"
   ]
  },
  {
   "cell_type": "code",
   "execution_count": null,
   "id": "3352ee52",
   "metadata": {},
   "outputs": [],
   "source": [
    "Min & Max for Axis = 1"
   ]
  },
  {
   "cell_type": "code",
   "execution_count": 15,
   "id": "78ae390a",
   "metadata": {},
   "outputs": [
    {
     "name": "stdout",
     "output_type": "stream",
     "text": [
      "Min : [1 4]\n",
      "Max : [45  9]\n"
     ]
    }
   ],
   "source": [
    "arr = np.array([[9,1,2,3,45,],[4,5,8,9,7]])\n",
    "print(\"Min :\",np.min(arr,axis=1))\n",
    "print(\"Max :\",np.max(arr,axis=1))"
   ]
  },
  {
   "cell_type": "markdown",
   "id": "419b1875",
   "metadata": {},
   "source": [
    "# Square root sqrt()"
   ]
  },
  {
   "cell_type": "code",
   "execution_count": 16,
   "id": "d206455b",
   "metadata": {},
   "outputs": [
    {
     "name": "stdout",
     "output_type": "stream",
     "text": [
      "sqrt ; [3.         1.         1.41421356 1.73205081 2.        ]\n"
     ]
    }
   ],
   "source": [
    "arr = np.array([9,1,2,3,4])\n",
    "print(\"sqrt : \",np.sqrt(arr))"
   ]
  },
  {
   "cell_type": "markdown",
   "id": "f07061fa",
   "metadata": {},
   "source": [
    "# SIN()"
   ]
  },
  {
   "cell_type": "code",
   "execution_count": 17,
   "id": "66712df6",
   "metadata": {},
   "outputs": [
    {
     "name": "stdout",
     "output_type": "stream",
     "text": [
      "sin :  [ 0.84147098  0.90929743  0.14112001  0.65028784 -0.98803162  0.85090352\n",
      " -0.30481062  0.89399666]\n"
     ]
    }
   ],
   "source": [
    "arr = np.array([1,2,3,15,30,45,60,90])\n",
    "print(\"sin : \",np.sin(arr))"
   ]
  },
  {
   "cell_type": "markdown",
   "id": "36969bdc",
   "metadata": {},
   "source": [
    "# COS()"
   ]
  },
  {
   "cell_type": "code",
   "execution_count": 19,
   "id": "0358a55c",
   "metadata": {},
   "outputs": [
    {
     "name": "stdout",
     "output_type": "stream",
     "text": [
      "Cos :  [ 0.54030231 -0.41614684 -0.9899925  -0.75968791  0.15425145  0.52532199\n",
      " -0.95241298 -0.44807362]\n"
     ]
    }
   ],
   "source": [
    "arr = np.array([1,2,3,15,30,45,60,90])\n",
    "print(\"Cos : \",np.cos(arr))"
   ]
  },
  {
   "cell_type": "markdown",
   "id": "722cacc5",
   "metadata": {},
   "source": [
    "# CUMSUM()"
   ]
  },
  {
   "cell_type": "code",
   "execution_count": 20,
   "id": "6d8a72c0",
   "metadata": {},
   "outputs": [
    {
     "name": "stdout",
     "output_type": "stream",
     "text": [
      "CUMSUM :  [ 4  9 15 17 21]\n"
     ]
    }
   ],
   "source": [
    "arr = np.array([4,5,6,2,4])\n",
    "print(\"CUMSUM : \",np.cumsum(arr))"
   ]
  }
 ],
 "metadata": {
  "kernelspec": {
   "display_name": "Python 3 (ipykernel)",
   "language": "python",
   "name": "python3"
  },
  "language_info": {
   "codemirror_mode": {
    "name": "ipython",
    "version": 3
   },
   "file_extension": ".py",
   "mimetype": "text/x-python",
   "name": "python",
   "nbconvert_exporter": "python",
   "pygments_lexer": "ipython3",
   "version": "3.11.2"
  }
 },
 "nbformat": 4,
 "nbformat_minor": 5
}
